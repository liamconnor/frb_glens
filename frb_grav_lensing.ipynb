{
 "cells": [
  {
   "cell_type": "code",
   "execution_count": 133,
   "metadata": {},
   "outputs": [
    {
     "name": "stdout",
     "output_type": "stream",
     "text": [
      "Populating the interactive namespace from numpy and matplotlib\n"
     ]
    }
   ],
   "source": [
    "import numpy as np\n",
    "from astropy import cosmology \n",
    "from astropy import constants as const, units as u\n",
    "from astropy.cosmology import Planck15 as P\n",
    "\n",
    "from scipy.integrate import quad\n",
    "\n",
    "%pylab inline"
   ]
  },
  {
   "cell_type": "markdown",
   "metadata": {},
   "source": [
    "The most naive thing one can do, is assume some fraction $f$ of all matter lives in compact halos, and a lensing optical depth can be computed as follows:\n",
    "\n",
    "\\begin{equation}\n",
    "\\tau(z_s) = \\frac{1}{4\\pi}\\int n(z_l)\\,\\pi\\,\\theta^2_E\\,dV(z_l)\\,\\,\\,\\,\\,\\,\\,\\,\\,\\,\\,(1)\n",
    "\\label{}\n",
    "\\end{equation}\n",
    "\n",
    "$$\n",
    "    \\tau(z_s) = \\frac{c}{H_0} \\int_0^{z_s}dz\\,\\frac{G f \\Omega_m}{c^2}\n",
    "            \\frac{D_{ls}}{D_l D_s} \\times \\frac{(1+z)^2}{\\sqrt{(1+z)^3\\Omega_m + \\Omega_\\lambda}}\n",
    "            \\,\\,\\,\\,\\,\\,\\,\\,\\,\\,\\,(2)\n",
    "$$\n",
    "\n",
    "This equation integrates over all lenses between the observer and the source assuming $n = f \\Omega_m \\rho_c/M$, $\\rho_c = 3H_0^2/(8\\pi G)$\n",
    "\n",
    "We are effectively assuming that the dark matter exists in primordial black holes or MACHOS"
   ]
  },
  {
   "cell_type": "code",
   "execution_count": 398,
   "metadata": {},
   "outputs": [],
   "source": [
    "def D_eff(zl, zs):\n",
    "    \"\"\" Calculate the effective lensing distance \n",
    "    for a lens at zl and a source at zs.\n",
    "    \"\"\"\n",
    "    Ds = P.angular_diameter_distance(zs)\n",
    "    Dl = P.angular_diameter_distance(zl)\n",
    "    Dls = P.angular_diameter_distance_z1z2(zl, zs)\n",
    "    Deff = Dls / (Dl * Ds)\n",
    "    \n",
    "    return Dl, Ds, Dls, Deff\n",
    "\n",
    "def theta_ein(M, zl=0.5, zs=1, prof='ps', sigma=None):\n",
    "    \"\"\" Get Einstein radius for mass M \n",
    "    in units of M_sun, lens redshift (zl), \n",
    "    and source redshift (zs) for a given \n",
    "    density profile.\n",
    "    \"\"\"\n",
    "    M *= u.M_sun\n",
    "    Dl, Ds, Dls, Deff = D_eff(zl, zs)\n",
    "    \n",
    "    if prof=='ps':\n",
    "        print(\"Assuming point source mass function\")\n",
    "        theta = np.sqrt(4*const.G*M*Deff/const.c**2)\n",
    "        \n",
    "    if prof=='SIS':\n",
    "        if sigma is None:\n",
    "            print(\"Expected a velocity dispersion sigma for SIS\")\n",
    "            return \n",
    "        theta = 4 * np.pi / const.c**2 * (sigma*u.km/u.s)**2 * Dls / Ds\n",
    "        \n",
    "    if prof=='NFW':\n",
    "        pass\n",
    "    \n",
    "    return theta.decompose()*u.rad\n",
    "\n",
    "def tau_integrand_BH(zl, zs=1, f=1.0):\n",
    "    \"\"\"Get lensing optical depth integrand from Eq. 2\n",
    "    assuming a fraction f of the Universe's matter in \n",
    "    compact halos or blackholes \n",
    "    \n",
    "    Parameters:\n",
    "    -----------\n",
    "    zl : float \n",
    "        lens redshift \n",
    "    zs : float \n",
    "        source redshift \n",
    "    f  : float \n",
    "        fraction of critical mass in halos \n",
    "        \n",
    "    Returns:\n",
    "    --------\n",
    "    Integrand\"\"\"\n",
    "    M = const.M_sun # Note mass actually doesn't affect integral\n",
    "    dV = P.differential_comoving_volume\n",
    "    Deff = D_eff(zl, zs)[-1]\n",
    "    theta_e = np.sqrt(4 * const.G * M / const.c**2 * Deff) * u.sr\n",
    "    rho_crit = 3 * P.H0**2 / (8*np.pi*const.G)\n",
    "    n = f * P.Om0 * rho_crit / M\n",
    "    tau_int = 1/(4*np.pi*u.sr) * n * dV(zl) * np.pi * theta_e**2\n",
    "    tau_int *= (u.km**2).to(u.m**2) * u.m**2/u.km**2\n",
    "    return tau_int\n",
    "\n",
    "def n_sig(zl, sig, mu=200, var=1000):\n",
    "    \"\"\" For now assume redshift independence. \n",
    "    The number of halos above 10**10 solar masses is \n",
    "    6e-3 according to\n",
    "    http://inspirehep.net/record/1125519/plots \n",
    "    \"\"\"\n",
    "    gauss = (2*np.pi*var)**-0.5*np.exp(-(sigs-mu)**2/(2*var))\n",
    "    gauss *= u.Mpc**-3\n",
    "    gauss *= 6e-3\n",
    "    \n",
    "    return gauss\n",
    "\n",
    "def tau_integrand_SIS(zl, sig, zs=1):\n",
    "    \"\"\"Get lensing optical depth integrand from Eq. 2\n",
    "    assuming a fraction f of the Universe's matter in \n",
    "    compact halos or blackholes \n",
    "    \n",
    "    Parameters:\n",
    "    -----------\n",
    "    zl : float \n",
    "        lens redshift \n",
    "    zs : float \n",
    "        source redshift \n",
    "    sig  : float \n",
    "        halo vel dispersion in km/s\n",
    "        \n",
    "    Returns:\n",
    "    --------\n",
    "    Integrand\"\"\"\n",
    "    dV = P.differential_comoving_volume\n",
    "    n_of_sig = n_sig(zl, sig)\n",
    "    theta_e = theta_ein(1, zl=0.5, zs=1, prof='SIS', sigma=sig)\n",
    "    tau_int = n_of_sig * np.pi*theta_e**2 * dV(zl)\n",
    "\n",
    "    return tau_int.decompose()\n",
    "\n",
    "def tau_integral(zs, f=1, n=1000):\n",
    "    zl_arr = np.linspace(0.01, zs, n)\n",
    "    tau_arr = np.zeros_like(zl_arr)\n",
    "    \n",
    "    for ii, zs in enumerate(zl_arr):\n",
    "        val = quad(tau_integrand_BH, 0, zs, (zs, f))[0]\n",
    "        tau_arr[ii] = val\n",
    "        \n",
    "    return zl_arr, tau_arr\n",
    "\n",
    "th = theta_ein(1e12, prof='SIS', sigma=200)"
   ]
  },
  {
   "cell_type": "code",
   "execution_count": 356,
   "metadata": {},
   "outputs": [],
   "source": [
    "# Integrate tau_integrand_BH (Eq. 2) \n",
    "# for different assumptions about the fraction of \n",
    "# the Universe's critical density in compact halos\n",
    "\n",
    "zls = np.linspace(0.001, 3, 150)\n",
    "I1,I2,I3=[],[],[]\n",
    "\n",
    "for zz in zls:\n",
    "    I1.append(quad(tau_integrand_BH, 0, zz, args=(zz, 0.3))[0])\n",
    "\n",
    "for zz in zls:\n",
    "    I2.append(quad(tau_integrand_BH, 0, zz, args=(zz, 0.03))[0])\n",
    "\n",
    "for zz in zls:\n",
    "    I3.append(quad(tau_integrand_BH, 0, zz, args=(zz, 0.0003))[0])"
   ]
  },
  {
   "cell_type": "code",
   "execution_count": 358,
   "metadata": {},
   "outputs": [
    {
     "data": {
      "text/plain": [
       "<matplotlib.legend.Legend at 0x1251fe6d8>"
      ]
     },
     "execution_count": 358,
     "metadata": {},
     "output_type": "execute_result"
    },
    {
     "data": {
      "image/png": "[encoded data removed]",
      "text/plain": [
       "<Figure size 432x288 with 1 Axes>"
      ]
     },
     "metadata": {},
     "output_type": "display_data"
    }
   ],
   "source": [
    "plot(zls, I1, color='k')\n",
    "plot(zls, I2, color='k', alpha=0.5)\n",
    "plot(zls, I3, color='C1')\n",
    "\n",
    "semilogy()\n",
    "xlim(0.1, 3.0)\n",
    "ylim(1e-9, 0.1)\n",
    "xlabel('Source Redshift', fontsize=12)\n",
    "ylabel('Lensing probability', fontsize=12)\n",
    "legend([r'$f=0.3$', r'$f=3\\times10^{-2}$', r'$f=3\\times10^{-4}$'], fontsize=12)"
   ]
  },
  {
   "cell_type": "markdown",
   "metadata": {},
   "source": [
    "Another simple thing we can do, is assume each halo is assume each halo is an SIS and is parameterized only by its velocity dispersion. \n",
    "\n",
    "\\begin{equation}\n",
    "    \\tau(z_s) = \\int_0^{z_s} dV(z_s) \\int_0^\\infty d\\sigma \\frac{dn}{d\\sigma} \\times B \\pi\\theta_E^2(\\sigma) \\,\\,\\,\\,\\,\\,\\,\\,\\,\\,\\,(3)\n",
    "\\end{equation}\n",
    "\n",
    "This equation integrates over all lenses between us and the source, \n",
    "and over all possible velecocity dispersions. Try using the function \"theta_ein(M, zl=0.5, zs=1, prof='SIS', sigma=200)\". Here B is magnification bias, but I will ignore that for now.\n",
    "\n",
    "For my own clarity, I rewrite that integral as:\n",
    "\n",
    "\\begin{equation}\n",
    "    \\tau(z_s) = \\int_0^{z_s}\\!\\!\\int_0^\\infty B \\frac{dn(z_l)}{d\\sigma} \\times \\pi\\theta_E^2(z_l, z_s, \\sigma) \\, \\,d\\sigma dV(z_l) \\,\\,\\,\\,\\,\\,\\,\\,\\,\\,\\,(3)\n",
    "\\end{equation}\n",
    "\n",
    "\n",
    "Note: this equation comes from Eq. 30 in https://arxiv.org/pdf/1907.06830.pdf"
   ]
  },
  {
   "cell_type": "code",
   "execution_count": 399,
   "metadata": {},
   "outputs": [
    {
     "data": {
      "text/plain": [
       "[<matplotlib.lines.Line2D at 0x1260f1198>]"
      ]
     },
     "execution_count": 399,
     "metadata": {},
     "output_type": "execute_result"
    },
    {
     "data": {
      "image/png": "[encoded data removed]",
      "text/plain": [
       "<Figure size 432x288 with 1 Axes>"
      ]
     },
     "metadata": {},
     "output_type": "display_data"
    }
   ],
   "source": [
    "sigs = np.linspace(0, 1000, 1000)\n",
    "var=1000\n",
    "plot(sigs, n_sig(zl, sigs))"
   ]
  },
  {
   "cell_type": "code",
   "execution_count": null,
   "metadata": {},
   "outputs": [],
   "source": []
  }
 ],
 "metadata": {
  "kernelspec": {
   "display_name": "Python 3",
   "language": "python",
   "name": "python3"
  },
  "language_info": {
   "codemirror_mode": {
    "name": "ipython",
    "version": 3
   },
   "file_extension": ".py",
   "mimetype": "text/x-python",
   "name": "python",
   "nbconvert_exporter": "python",
   "pygments_lexer": "ipython3",
   "version": "3.5.1"
  }
 },
 "nbformat": 4,
 "nbformat_minor": 2
}
